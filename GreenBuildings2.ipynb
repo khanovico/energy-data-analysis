{
 "cells": [
  {
   "cell_type": "markdown",
   "metadata": {},
   "source": [
    "# Predicting Emissions Of Buildings In NYC\n",
    "------\n",
    "\n",
    "## Contents\n",
    "\n",
    "__[1. Predictive Models For Green House Gas Emission ](#fourth-bullet)__\n",
    "\n",
    "- __[Linear Regression ](#model-one)__\n",
    "\n",
    "- __[General Additive Models](#model-two)__\n",
    "\n",
    "- __[Gradient Boosted Regression Trees](#model-three)__\n",
    "\n",
    "__[2. Conclusions And Recommendations ](#fifth-bullet)__\n",
    "\n",
    "\n",
    "--------------\n",
    "\n",
    "## Introduction <a class=\"anchor\" id=\"first-bullet\"></a>\n",
    "-------------\n",
    "\t\n",
    "I started this project a while back with a goal of taking the 2016 NYC Benchmarking Law data about building energy usage and do something interesting with it. I originally attmpted to clean and analyze this data set to try to find ways to reduce builings' energy usage and subsequently their green house gas emissions. After a few iterations I thought it might be interesting to see if we could additonally predict the emission of green house gases from buildings by looking at their age, energy and water consumption as well as other energy consumption metrics. In the modeling section we look at three different modes for predicting green house gas emissions:\n",
    "\n",
    "1. Linear Regression\n",
    "\n",
    "2. Generalized Additive Models\n",
    "\n",
    "3. Gradient Boosted Regression Trees\n",
    "\n",
    "In the conclusion section I not only summarize the findings, but give some specific recommendations to reduce the multi-family buildings energy usage.\n",
    "\n",
    "----------\n",
    "### Data \n",
    "----------\n",
    "The NYC Benchmarking Law requires owners of large buildings to annually measure their energy and water consumption in a process called benchmarking. The law standardizes this process by requiring building owners to enter their annual energy and water use in the U.S. Environmental Protection Agency's (EPA) online tool, ENERGY STAR Portfolio Manager® and use the tool to submit data to the City. This data gives building owners about a building's energy and water consumption compared to similar buildings, and tracks progress year over year to help in energy efficiency planning.  In this blog post we will analyze how buildings in New York City use energy and water, make recommendations on how to improve their performance and also model their green house gas emissions. The source code for this project can be found <a href=\"https://github.com/mdh266/NYCBuildingEnergyUse\">here</a>.\n",
    "\n",
    "\n",
    "Benchmarking data is also disclosed publicly and can be found <a href=\"http://www.nyc.gov/html/gbee/html/plan/ll84_scores.shtml\">here</a>.  I analyzed the 2016 data and my summary of the findings and recommendations for reducing energy consumption in New York City buildings are discussed in the conclusions section.\n",
    "\n",
    "The 2016 data is very messy and a lot of cleaning was necessary to do analysis on it.  One thing to note is that this is **self-reported data**, meaning the performance data wasn't collected by a non-bias third party but by the building owners.  This means our data is biased and we will keep this in mind while performing our analysis.\n",
    "\n",
    "There are about 13,223 buildings recorded in this dataset and many of them have missing data values. While there are many different techniques for imputing missing values, there was sufficient number of buildings with all their values that I did not need to impute missing values. The cleaning process was made more difficult because the data was stored as strings with multiple non-numeric values which made converting the data to its proper type a more involved process."
   ]
  },
  {
   "cell_type": "markdown",
   "metadata": {},
   "source": [
    "--------------------------\n",
    "## Exploratory Analysis<a class=\"anchor\" id=\"second-bullet\"></a>\n",
    "-------------------------\n",
    "Since the cleaning was more tedious I created external functions do handle this processes.  In addition, I also a created functions to handle transforming and plotting the data.  I kept these functions in seperate files <code>Cleaning_Functions.py</code> and <code>Plotting_Functions.py</code> respecively so as to not clutter the post.  We import these functions along with other basic libraries (<a href=\"http://pandas.pydata.org/\">Pandas</a>, <a href=\"http://matplotlib.org/\">Matplotlib</a> and <a href=\"http://seaborn.pydata.org/\">Seaborn</a>) as well as read in the data file below:"
   ]
  },
  {
   "cell_type": "code",
   "execution_count": 6,
   "metadata": {},
   "outputs": [],
   "source": [
    "import warnings\n",
    "warnings.filterwarnings('ignore')\n",
    "\n",
    "import pandas as pd\n",
    "import matplotlib.pyplot as plt\n",
    "import seaborn as sns\n",
    "%matplotlib inline\n",
    "sns.set()"
   ]
  },
  {
   "cell_type": "code",
   "execution_count": null,
   "metadata": {},
   "outputs": [],
   "source": []
  },
  {
   "cell_type": "markdown",
   "metadata": {},
   "source": [
    "## Predictive Models For Green House Gas Emissions <a class=\"anchor\" id=\"fourth-bullet\"></a>\n",
    "\n",
    "Now let's build a predictive model for green house gas Emissions by multifamily homes in New York City.  We'll do this at first using a simple linear regression model.  While not the best in terms of perdictive performance it is often a best first step since it allows one to interpet the effect each feature has on the predicted green house gas emissions.  \n",
    "\n",
    "Before building a model, we first have to prepare our features and scale them appropriately. This involves dictating which are the continuous variabels and the categorical variables.  We define them as,"
   ]
  },
  {
   "cell_type": "code",
   "execution_count": 7,
   "metadata": {},
   "outputs": [],
   "source": [
    "df = pd.read_csv(\"data.csv\")"
   ]
  },
  {
   "cell_type": "code",
   "execution_count": 8,
   "metadata": {},
   "outputs": [],
   "source": [
    "df2 = df.dropna()"
   ]
  },
  {
   "cell_type": "code",
   "execution_count": 9,
   "metadata": {},
   "outputs": [
    {
     "data": {
      "text/html": [
       "<div>\n",
       "<style scoped>\n",
       "    .dataframe tbody tr th:only-of-type {\n",
       "        vertical-align: middle;\n",
       "    }\n",
       "\n",
       "    .dataframe tbody tr th {\n",
       "        vertical-align: top;\n",
       "    }\n",
       "\n",
       "    .dataframe thead th {\n",
       "        text-align: right;\n",
       "    }\n",
       "</style>\n",
       "<table border=\"1\" class=\"dataframe\">\n",
       "  <thead>\n",
       "    <tr style=\"text-align: right;\">\n",
       "      <th></th>\n",
       "      <th>Energy_Star</th>\n",
       "      <th>Site_EUI</th>\n",
       "      <th>Nat_Gas</th>\n",
       "      <th>Elec_Use</th>\n",
       "      <th>GHG</th>\n",
       "      <th>Water_Use</th>\n",
       "      <th>NGI</th>\n",
       "      <th>EI</th>\n",
       "      <th>WI</th>\n",
       "      <th>GHGI</th>\n",
       "      <th>OPSFT</th>\n",
       "      <th>Year_Built</th>\n",
       "      <th>Zip_Code</th>\n",
       "    </tr>\n",
       "  </thead>\n",
       "  <tbody>\n",
       "    <tr>\n",
       "      <th>1</th>\n",
       "      <td>80.0</td>\n",
       "      <td>44.9</td>\n",
       "      <td>2739020.0</td>\n",
       "      <td>4737201.3</td>\n",
       "      <td>538.4</td>\n",
       "      <td>11901.5</td>\n",
       "      <td>16.457292</td>\n",
       "      <td>28.463284</td>\n",
       "      <td>0.071510</td>\n",
       "      <td>0.003235</td>\n",
       "      <td>0.000571</td>\n",
       "      <td>1950.0</td>\n",
       "      <td>10019.0</td>\n",
       "    </tr>\n",
       "    <tr>\n",
       "      <th>2</th>\n",
       "      <td>10.0</td>\n",
       "      <td>91.3</td>\n",
       "      <td>5733933.4</td>\n",
       "      <td>4759700.8</td>\n",
       "      <td>699.3</td>\n",
       "      <td>7455.1</td>\n",
       "      <td>49.886752</td>\n",
       "      <td>41.410668</td>\n",
       "      <td>0.064861</td>\n",
       "      <td>0.006084</td>\n",
       "      <td>0.000827</td>\n",
       "      <td>1964.0</td>\n",
       "      <td>10021.0</td>\n",
       "    </tr>\n",
       "    <tr>\n",
       "      <th>15</th>\n",
       "      <td>9.0</td>\n",
       "      <td>80.3</td>\n",
       "      <td>22826750.4</td>\n",
       "      <td>13822748.8</td>\n",
       "      <td>2358.8</td>\n",
       "      <td>18545.0</td>\n",
       "      <td>52.513919</td>\n",
       "      <td>31.799827</td>\n",
       "      <td>0.042664</td>\n",
       "      <td>0.005427</td>\n",
       "      <td>0.000230</td>\n",
       "      <td>1909.0</td>\n",
       "      <td>10004.0</td>\n",
       "    </tr>\n",
       "    <tr>\n",
       "      <th>27</th>\n",
       "      <td>87.0</td>\n",
       "      <td>64.2</td>\n",
       "      <td>2534500.2</td>\n",
       "      <td>1673125.4</td>\n",
       "      <td>273.4</td>\n",
       "      <td>1644.2</td>\n",
       "      <td>40.860582</td>\n",
       "      <td>26.973712</td>\n",
       "      <td>0.026507</td>\n",
       "      <td>0.004408</td>\n",
       "      <td>0.001612</td>\n",
       "      <td>1986.0</td>\n",
       "      <td>10280.0</td>\n",
       "    </tr>\n",
       "    <tr>\n",
       "      <th>40</th>\n",
       "      <td>1.0</td>\n",
       "      <td>174.1</td>\n",
       "      <td>9149686.1</td>\n",
       "      <td>2367124.5</td>\n",
       "      <td>682.3</td>\n",
       "      <td>3643.0</td>\n",
       "      <td>111.376442</td>\n",
       "      <td>28.814311</td>\n",
       "      <td>0.044345</td>\n",
       "      <td>0.008305</td>\n",
       "      <td>0.001217</td>\n",
       "      <td>2008.0</td>\n",
       "      <td>10282.0</td>\n",
       "    </tr>\n",
       "  </tbody>\n",
       "</table>\n",
       "</div>"
      ],
      "text/plain": [
       "    Energy_Star  Site_EUI     Nat_Gas    Elec_Use     GHG  Water_Use  \\\n",
       "1          80.0      44.9   2739020.0   4737201.3   538.4    11901.5   \n",
       "2          10.0      91.3   5733933.4   4759700.8   699.3     7455.1   \n",
       "15          9.0      80.3  22826750.4  13822748.8  2358.8    18545.0   \n",
       "27         87.0      64.2   2534500.2   1673125.4   273.4     1644.2   \n",
       "40          1.0     174.1   9149686.1   2367124.5   682.3     3643.0   \n",
       "\n",
       "           NGI         EI        WI      GHGI     OPSFT  Year_Built  Zip_Code  \n",
       "1    16.457292  28.463284  0.071510  0.003235  0.000571      1950.0   10019.0  \n",
       "2    49.886752  41.410668  0.064861  0.006084  0.000827      1964.0   10021.0  \n",
       "15   52.513919  31.799827  0.042664  0.005427  0.000230      1909.0   10004.0  \n",
       "27   40.860582  26.973712  0.026507  0.004408  0.001612      1986.0   10280.0  \n",
       "40  111.376442  28.814311  0.044345  0.008305  0.001217      2008.0   10282.0  "
      ]
     },
     "execution_count": 9,
     "metadata": {},
     "output_type": "execute_result"
    }
   ],
   "source": [
    "df2.head()"
   ]
  },
  {
   "cell_type": "code",
   "execution_count": 10,
   "metadata": {},
   "outputs": [],
   "source": [
    "continuous_vars  = [\"NGI\", \"EI\", \"WI\", \"GHGI\", \"OPSFT\",\n",
    "                    \"Site_EUI\",\"Year_Built\", \"Energy_Star\"]\n",
    "\n",
    "df_cont          = df2[continuous_vars]\n",
    "\n",
    "df_cat           = pd.get_dummies(df2[\"Zip_Code\"].astype(str), \n",
    "                                  prefix=\"zip\", \n",
    "                                  dummy_na=False)\n",
    "\n",
    "df_comb          = df_cont.merge(df_cat,\n",
    "                                 left_index=True,\n",
    "                                 right_index=True)"
   ]
  },
  {
   "cell_type": "code",
   "execution_count": 11,
   "metadata": {},
   "outputs": [],
   "source": [
    "X,Y = df_comb.drop([\"GHGI\",\"Site_EUI\"],axis=1),df_comb[\"GHGI\"]"
   ]
  },
  {
   "cell_type": "code",
   "execution_count": 12,
   "metadata": {},
   "outputs": [],
   "source": [
    "from sklearn.model_selection import train_test_split\n",
    "\n",
    "X_train, X_test, y_train, y_test = train_test_split(X, Y, test_size=0.2, random_state=42)"
   ]
  },
  {
   "cell_type": "code",
   "execution_count": 13,
   "metadata": {},
   "outputs": [],
   "source": [
    "from sklearn.preprocessing import StandardScaler"
   ]
  },
  {
   "cell_type": "code",
   "execution_count": 14,
   "metadata": {},
   "outputs": [
    {
     "name": "stderr",
     "output_type": "stream",
     "text": [
      "/Users/mukeharmon/miniconda/lib/python3.6/site-packages/sklearn/preprocessing/data.py:625: DataConversionWarning: Data with input dtype uint8, float64 were all converted to float64 by StandardScaler.\n",
      "  return self.partial_fit(X, y)\n",
      "/Users/mukeharmon/miniconda/lib/python3.6/site-packages/ipykernel_launcher.py:5: DataConversionWarning: Data with input dtype uint8, float64 were all converted to float64 by StandardScaler.\n",
      "  \"\"\"\n",
      "/Users/mukeharmon/miniconda/lib/python3.6/site-packages/ipykernel_launcher.py:6: DataConversionWarning: Data with input dtype uint8, float64 were all converted to float64 by StandardScaler.\n",
      "  \n"
     ]
    }
   ],
   "source": [
    "scaler = StandardScaler()\n",
    "\n",
    "scaler.fit(X_train)\n",
    "\n",
    "X_train_s  = scaler.transform(X_train)\n",
    "X_test_s   = scaler.transform(X_test)"
   ]
  },
  {
   "cell_type": "code",
   "execution_count": null,
   "metadata": {},
   "outputs": [],
   "source": []
  },
  {
   "cell_type": "code",
   "execution_count": null,
   "metadata": {
    "scrolled": false
   },
   "outputs": [],
   "source": []
  },
  {
   "cell_type": "markdown",
   "metadata": {},
   "source": [
    "\n",
    "### Linear Regression <a class=\"anchor\" id=\"model-one\"></a>\n",
    "\n",
    "As we stated early we'll start out with a <a href=\"http://scikit-learn.org/stable/modules/generated/sklearn.linear_model.LinearRegression.html\">Linear Regression Model</a> since it is simple and interpertable. The form of a linear regression the model assumes that the green hour gas emission intensity (`GHGI`) labeld $y$, can be expressed a linear combination,\n",
    "\n",
    "$$ y \\; = \\; \\theta_{0} + \\theta_{1} x_{1} + \\theta_{2} x_{2} +  \\ldots + \\theta_{p} x_{p} + \\epsilon$$\n",
    "\n",
    "\n",
    "The $x_{i}$'s are the features for our model (`WI`, `OPSFT`, etc), and the error $\\epsilon \\sim N(0,\\sigma^{2}$) is normally distributed.  We then make a model $h_{\\theta}(\\textbf{x})$,\n",
    "\n",
    "$$ h_{\\theta}(\\textbf{x}) \\; = \\; \\theta_{0} + \\theta_{1} x_{1} + \\theta_{2} x_{2} +  \\ldots + \\theta_{p} x_{p} $$\n",
    "\n",
    "And estimate the coefficents ($\\theta_{i}$) are estimated using ordinary least squares methods.  This leads to the expected value of our preditions being unbiased:\n",
    "\n",
    "$$ E[ h_{\\theta}(\\textbf{x})] \\; = \\; \\theta_{0} + \\theta_{1} x_{1} + \\theta_{2} x_{2} +  \\ldots + \\theta_{p} x_{p} $$\n",
    "\n",
    "We can easily implement a least squares regression model using Scikit-learn:"
   ]
  },
  {
   "cell_type": "code",
   "execution_count": 15,
   "metadata": {},
   "outputs": [
    {
     "data": {
      "text/plain": [
       "LinearRegression(copy_X=True, fit_intercept=True, n_jobs=-1, normalize=False)"
      ]
     },
     "execution_count": 15,
     "metadata": {},
     "output_type": "execute_result"
    }
   ],
   "source": [
    "from sklearn.linear_model    import LinearRegression\n",
    "from sklearn.metrics         import r2_score\n",
    "\n",
    "reg = LinearRegression(n_jobs=-1)\n",
    "reg.fit(X_train, y_train)"
   ]
  },
  {
   "cell_type": "markdown",
   "metadata": {
    "collapsed": true
   },
   "source": [
    "We can then evaluate the model performance ($R^{2}$-score) on the test set to *see how much variance in the model we are able to explain,*"
   ]
  },
  {
   "cell_type": "code",
   "execution_count": 55,
   "metadata": {},
   "outputs": [
    {
     "name": "stdout",
     "output_type": "stream",
     "text": [
      "Variance score: 0.5560915533292736\n"
     ]
    }
   ],
   "source": [
    "y_pred = reg.predict(X_test)\n",
    "\n",
    "# Explained variance score: \n",
    "print(\"Variance score: {}\".format(r2_score(y_test, y_pred)))"
   ]
  },
  {
   "cell_type": "code",
   "execution_count": 56,
   "metadata": {},
   "outputs": [
    {
     "name": "stdout",
     "output_type": "stream",
     "text": [
      "Variance score: 0.5560915533292736\n"
     ]
    }
   ],
   "source": [
    "y_pred = reg.predict(X_test)\n",
    "\n",
    "# Explained variance score: \n",
    "print(\"Variance score: {}\".format(r2_score(y_test, y_pred)))"
   ]
  },
  {
   "cell_type": "markdown",
   "metadata": {},
   "source": [
    "We can explain 53% of the variance which definitely leaves room for improvement, but we expected that such a simple model would not perform well.  Let's take a look at which features are most important."
   ]
  },
  {
   "cell_type": "code",
   "execution_count": 57,
   "metadata": {},
   "outputs": [
    {
     "name": "stdout",
     "output_type": "stream",
     "text": [
      "('NGI', 4.729121214760234e-07)\n",
      "('EI', 3.4318955041144823e-06)\n",
      "('WI', 0.006301998753477476)\n",
      "('OPSFT', 0.35112002644905543)\n",
      "('Year_Built', 1.2906300326987603e-06)\n",
      "('Energy_Star', -4.206245988302586e-05)\n",
      "('zip_10001.0', 0.0002468765031093341)\n",
      "('zip_10002.0', -0.0008140025251559746)\n",
      "('zip_10003.0', 0.00024638769240267213)\n",
      "('zip_10004.0', -0.0016038647230203814)\n",
      "('zip_10005.0', -0.00014167030854886356)\n",
      "('zip_10006.0', -0.00031630844757257206)\n",
      "('zip_10007.0', 0.00020945029407199738)\n",
      "('zip_10009.0', -0.0005559330383759821)\n",
      "('zip_10010.0', 0.00018404876815257936)\n",
      "('zip_10011.0', 0.0001435224748827665)\n",
      "('zip_10012.0', -0.0002625655038580992)\n",
      "('zip_10013.0', -0.0005165754861583317)\n",
      "('zip_10014.0', 0.0002093801736922472)\n",
      "('zip_10016.0', 0.0005628328622881567)\n",
      "('zip_10017.0', -0.0007365902500463224)\n",
      "('zip_10018.0', -0.00046213082465935734)\n",
      "('zip_10019.0', -8.422355307154476e-05)\n",
      "('zip_10021.0', -0.00011649188176638795)\n",
      "('zip_10022.0', -0.0005220363234760014)\n",
      "('zip_10023.0', 0.0005169609352240125)\n",
      "('zip_10024.0', 0.0006468959110670153)\n",
      "('zip_10025.0', 0.000370379604381356)\n",
      "('zip_10026.0', 9.620510821468933e-05)\n",
      "('zip_10027.0', 0.000355643492668354)\n",
      "('zip_10028.0', -0.0002647792424644425)\n",
      "('zip_10029.0', 0.0001499016999704413)\n",
      "('zip_10030.0', 0.0002985000121567403)\n",
      "('zip_10031.0', 0.00028509037217266866)\n",
      "('zip_10032.0', -0.0004534465172855558)\n",
      "('zip_10033.0', -0.0002666502726460055)\n",
      "('zip_10035.0', 0.00034368103877158396)\n",
      "('zip_10036.0', 0.0008058689672322159)\n",
      "('zip_10037.0', 0.00016978860505015262)\n",
      "('zip_10038.0', -0.0012078756184603545)\n",
      "('zip_10039.0', 0.0008215094050350873)\n",
      "('zip_10044.0', -0.000364274345642345)\n",
      "('zip_10065.0', -4.29764781123584e-05)\n",
      "('zip_10069.0', 0.002010726383241211)\n",
      "('zip_10075.0', 3.774031211352893e-05)\n",
      "('zip_10128.0', -0.0005324337107374059)\n",
      "('zip_10280.0', 0.00015743625943324754)\n",
      "('zip_10282.0', 0.0003960021756412462)\n"
     ]
    }
   ],
   "source": [
    "for coef in zip(X_train.columns, reg.coef_):\n",
    "    print(coef)"
   ]
  },
  {
   "cell_type": "markdown",
   "metadata": {},
   "source": [
    "For features that have continuous values the model coefficents tell us that an increase on of their in units results in an incrase in the unit of green house emissions tha is equal to the coefficent.  We can see that increasing the electricty, water intensity and occupancy increase the green house gas emissions, which makes sense. *However, increases in natural gas intensity usage decreases the green house gas emisssions.*  This is strange, however, it could also be because of multi-collinarity of the features. \n",
    "\n",
    "Additionally, I'm not sure how green house gas emissions are calculated, if the calculations include the emissions from power sources this could make sense since electricity often comes from coal which releases more emissions that using natural gas.  Therefore switching to natural gas instead of electricity could reduce green house gas emissions. \n",
    "\n",
    "\n",
    "We can measure the p-values for coefficents by using Scikit-Learns's <a href=\"http://scikit-learn.org/stable/modules/generated/sklearn.feature_selection.f_regression.html\">f_regression</a> function."
   ]
  },
  {
   "cell_type": "code",
   "execution_count": 58,
   "metadata": {},
   "outputs": [
    {
     "name": "stdout",
     "output_type": "stream",
     "text": [
      "NGI's p-value : 0.00029466897591056324\n",
      "EI's p-value : 5.7029383987302784e-27\n",
      "WI's p-value : 2.353099737278085e-24\n",
      "OPSFT's p-value : 0.006079525280723503\n",
      "Year_Built's p-value : 0.13333784748023125\n",
      "Energy_Star's p-value : 1.3397652049191728e-140\n",
      "zip_10001.0's p-value : 0.10701086709410279\n",
      "zip_10002.0's p-value : 0.20733051887238343\n",
      "zip_10003.0's p-value : 0.7603468647229099\n",
      "zip_10004.0's p-value : 0.7279693432215827\n",
      "zip_10005.0's p-value : 0.7502378325303266\n",
      "zip_10006.0's p-value : 0.9974655758673077\n",
      "zip_10007.0's p-value : 0.8193885902505422\n",
      "zip_10009.0's p-value : 0.4545750161848382\n",
      "zip_10010.0's p-value : 0.8142957967393127\n",
      "zip_10011.0's p-value : 0.5604040635547165\n",
      "zip_10012.0's p-value : 0.8545912191272746\n",
      "zip_10013.0's p-value : 0.6352162516407462\n",
      "zip_10014.0's p-value : 0.9912108984609249\n",
      "zip_10016.0's p-value : 0.10984533516246388\n",
      "zip_10017.0's p-value : 0.5234805354570065\n",
      "zip_10018.0's p-value : 0.1472751241758115\n",
      "zip_10019.0's p-value : 0.4532617743032724\n",
      "zip_10021.0's p-value : 0.023497867161431\n",
      "zip_10022.0's p-value : 0.016272804215332323\n",
      "zip_10023.0's p-value : 2.8209899293460114e-05\n",
      "zip_10024.0's p-value : 1.2510441024118504e-06\n",
      "zip_10025.0's p-value : 0.6949688767708839\n",
      "zip_10026.0's p-value : 0.2269576331755087\n",
      "zip_10027.0's p-value : 0.49118988413990694\n",
      "zip_10028.0's p-value : 0.0004266114982261945\n",
      "zip_10029.0's p-value : 0.6183480351174973\n",
      "zip_10030.0's p-value : 0.6312345721167654\n",
      "zip_10031.0's p-value : 0.12332917566168468\n",
      "zip_10032.0's p-value : 0.01459601715668786\n",
      "zip_10033.0's p-value : 0.7860113251159158\n",
      "zip_10035.0's p-value : 0.8698884076099359\n",
      "zip_10036.0's p-value : 0.008885098760460133\n",
      "zip_10037.0's p-value : 0.639924677651142\n",
      "zip_10038.0's p-value : 0.16693165791458187\n",
      "zip_10039.0's p-value : 0.28614306366673115\n",
      "zip_10044.0's p-value : 0.2628051407616194\n",
      "zip_10065.0's p-value : 0.14735316303019444\n",
      "zip_10069.0's p-value : 0.014167953298782633\n",
      "zip_10075.0's p-value : 0.19052014560074076\n",
      "zip_10128.0's p-value : 0.0559782249582098\n",
      "zip_10280.0's p-value : 0.5691556752237634\n",
      "zip_10282.0's p-value : 0.14526548029628475\n"
     ]
    }
   ],
   "source": [
    "from sklearn.feature_selection import f_regression\n",
    "\n",
    "f_stats, pvals = f_regression(X_train, y_train)\n",
    "\n",
    "for coef in zip(X_train.columns, pvals):\n",
    "    print(\"{0}'s p-value : {1}\".format(coef[0],coef[1]))"
   ]
  },
  {
   "cell_type": "markdown",
   "metadata": {},
   "source": [
    "**We see that even though the coeficients of the regression model are rather small, their small p-values signifiy that they are still signifcant and should be included in our model.**\n",
    "\n",
    "Let's look at some of the residuals in the continuous features to see if we can find any non-linear patterns that might signal ways improve the model."
   ]
  },
  {
   "cell_type": "code",
   "execution_count": 59,
   "metadata": {},
   "outputs": [
    {
     "name": "stderr",
     "output_type": "stream",
     "text": [
      "/Users/mukeharmon/miniconda/lib/python3.6/site-packages/seaborn/axisgrid.py:2065: UserWarning: The `size` parameter has been renamed to `height`; pleaes update your code.\n",
      "  warnings.warn(msg, UserWarning)\n"
     ]
    },
    {
     "data": {
      "text/plain": [
       "<seaborn.axisgrid.PairGrid at 0x1a1de771d0>"
      ]
     },
     "execution_count": 59,
     "metadata": {},
     "output_type": "execute_result"
    },
    {
     "data": {
      "image/png": "[encoded data removed]",
      "text/plain": [
       "<Figure size 1440x360 with 4 Axes>"
      ]
     },
     "metadata": {
      "needs_background": "light"
     },
     "output_type": "display_data"
    }
   ],
   "source": [
    "# compute the residuals\n",
    "resid = (y_test - y_pred).to_frame()\\\n",
    "                         .rename(columns={\"GHGI\":\"Residuals\"})\n",
    "\n",
    "# left join them to the original features\n",
    "x_resid = X_test.merge(resid, left_index=True, right_index=True)\n",
    "\n",
    "# plot the residuals\n",
    "sns.pairplot(x_resid, \n",
    "             x_vars=['NGI','EI','WI','OPSFT'], \n",
    "             y_vars='Residuals', \n",
    "             kind = 'scatter',\n",
    "             size=5, \n",
    "             dropna=True)"
   ]
  },
  {
   "cell_type": "markdown",
   "metadata": {
    "collapsed": true
   },
   "source": [
    "A slightly parabolic pattern in the `WI`'s residuals, but nothing to clear in the others. One way we could improve our model's $R^{2}$ value is to tune the regularization parameter however, let's move on to a more flexible model and hopefully improve our predictions.\n",
    "\n",
    "### Generalized Additive Models <a class=\"anchor\" id=\"model-two\"></a>\n",
    "\n",
    "Linear regression is a specific type of generalized linear model.  <a href=\"https://en.wikipedia.org/wiki/Generalized_linear_model\">Generalized lienar models</a> relate the expected outcome of the target variable, $y$, to the model's features $x_{1}, x_{2}, \\ldots x_{p}$ through the equation:\n",
    "\n",
    "$$ g(E[h_{\\theta}(\\textbf{x})]) \\; = \\; \\theta_{0} + \\theta_{1} x_{1} + \\theta_{2} x_{2} +  \\ldots + \\theta_{p} x_{p} $$\n",
    "\n",
    "The function $g$ is called the **link** function. For linear regresion the link function is just the identity function, while for logistic regression it is the <a href=\"https://en.wikipedia.org/wiki/Logit\">logit function</a>.\n",
    "\n",
    "<a href=\"https://en.wikipedia.org/wiki/Generalized_additive_model\">Generalized Additive Models </a>are extension of the generalized addative model that assume that the expected outcome of the target variable $y$ to the features $x_{1}, x_{2}, \\ldots x_{p}$ through the equation:\n",
    "\n",
    "$$ g(E[h_{\\theta}(\\textbf{x})]) \\; = \\; \\theta_{0} + f_{1}(x_{1}) + f_{2}(x_{2}) +  \\ldots + f_{p}(x_{p}) $$\n",
    "\n",
    "The basis functions $f_{i}$ can be functions of a parameteric form such as a polynomial, or more general non-parametric functions.  Using basis functions allows for smoother, higher order (more accurate) approximations to the model in parameter space when compared to traditional polynomials.  GAMs therefore allow for more accurate predictions than generalized linear models, however, they still allowing for the model to be interperable.  \n",
    "\n",
    "We'll use the <a href=\"https://github.com/dswah/pyGAM\">PyGam</a> library which uses penalized <a href=\"https://en.wikipedia.org/wiki/B-spline\">B splines</a> as basis functions. This choice of basis functions allow us to automatically model non-linear relationships without having to manually try out many different transformations on each variable.\n",
    "\n",
    "We can import the regression GAM model:"
   ]
  },
  {
   "cell_type": "code",
   "execution_count": 60,
   "metadata": {},
   "outputs": [],
   "source": [
    "from pygam import LinearGAM"
   ]
  },
  {
   "cell_type": "markdown",
   "metadata": {},
   "source": [
    "We can then fit our model using 10 splines and using a grid search:"
   ]
  },
  {
   "cell_type": "code",
   "execution_count": 61,
   "metadata": {},
   "outputs": [],
   "source": [
    "gam = LinearGAM(n_splines=10).fit(X_train, y_train)"
   ]
  },
  {
   "cell_type": "markdown",
   "metadata": {},
   "source": [
    "PyGam gives a summary report of our model similar to the <a href=\"http://www.statsmodels.org/stable/index.html\">StatsModels</a> library:"
   ]
  },
  {
   "cell_type": "code",
   "execution_count": 62,
   "metadata": {},
   "outputs": [
    {
     "name": "stdout",
     "output_type": "stream",
     "text": [
      "LinearGAM                                                                                                 \n",
      "=============================================== ==========================================================\n",
      "Distribution:                        NormalDist Effective DoF:                                      73.829\n",
      "Link Function:                     IdentityLink Log Likelihood:                            -453160087.7806\n",
      "Number of Samples:                         1179 AIC:                                        906320325.2191\n",
      "                                                AICc:                                       906320335.5062\n",
      "                                                GCV:                                                   0.0\n",
      "                                                Scale:                                                 0.0\n",
      "                                                Pseudo R-Squared:                                   0.6911\n",
      "==========================================================================================================\n",
      "Feature Function                  Lambda               Rank         EDoF         P > x        Sig. Code   \n",
      "================================= ==================== ============ ============ ============ ============\n",
      "s(0)                              [0.6]                10           6.3          1.11e-16     ***         \n",
      "s(1)                              [0.6]                10           5.2          1.03e-07     ***         \n",
      "s(2)                              [0.6]                10           4.7          6.39e-11     ***         \n",
      "s(3)                              [0.6]                10           6.3          1.25e-02     *           \n",
      "s(4)                              [0.6]                10           5.7          2.02e-01                 \n",
      "s(5)                              [0.6]                10           6.4          1.11e-16     ***         \n",
      "s(6)                              [0.6]                10           1.2          2.72e-01                 \n",
      "s(7)                              [0.6]                10           1.2          1.23e-02     *           \n",
      "s(8)                              [0.6]                10           1.3          6.33e-01                 \n",
      "s(9)                              [0.6]                10           1.2          3.19e-01                 \n",
      "s(10)                             [0.6]                10           0.9          8.69e-01                 \n",
      "s(11)                             [0.6]                10           1.2          9.69e-01                 \n",
      "s(12)                             [0.6]                10           1.1          9.55e-01                 \n",
      "s(13)                             [0.6]                10           1.2          9.89e-01                 \n",
      "s(14)                             [0.6]                10           1.1          7.27e-01                 \n",
      "s(15)                             [0.6]                10           1.1          3.28e-01                 \n",
      "s(16)                             [0.6]                10           1.0          3.42e-01                 \n",
      "s(17)                             [0.6]                10           1.1          4.65e-01                 \n",
      "s(18)                             [0.6]                10           1.1          8.22e-01                 \n",
      "s(19)                             [0.6]                10           1.0          9.77e-01                 \n",
      "s(20)                             [0.6]                10           1.1          6.15e-04     ***         \n",
      "s(21)                             [0.6]                10           1.1          4.07e-01                 \n",
      "s(22)                             [0.6]                10           1.1          8.48e-02     .           \n",
      "s(23)                             [0.6]                10           1.0          3.47e-02     *           \n",
      "s(24)                             [0.6]                10           0.9          2.51e-03     **          \n",
      "s(25)                             [0.6]                10           0.9          8.80e-01                 \n",
      "s(26)                             [0.6]                10           0.9          8.44e-01                 \n",
      "s(27)                             [0.6]                10           1.7          7.54e-01                 \n",
      "s(28)                             [0.6]                10           0.9          9.52e-01                 \n",
      "s(29)                             [0.6]                10           0.9          9.86e-01                 \n",
      "s(30)                             [0.6]                10           0.9          4.49e-02     *           \n",
      "s(31)                             [0.6]                10           0.9          7.14e-01                 \n",
      "s(32)                             [0.6]                10           1.0          4.41e-01                 \n",
      "s(33)                             [0.6]                10           0.8          8.40e-01                 \n",
      "s(34)                             [0.6]                10           0.9          2.01e-01                 \n",
      "s(35)                             [0.6]                10           0.3          1.00e+00                 \n",
      "s(36)                             [0.6]                10           0.7          9.80e-01                 \n",
      "s(37)                             [0.6]                10           0.8          6.37e-01                 \n",
      "s(38)                             [0.6]                10           0.9          9.22e-01                 \n",
      "s(39)                             [0.6]                10           0.9          2.51e-02     *           \n",
      "s(40)                             [0.6]                10           0.7          7.72e-01                 \n",
      "s(41)                             [0.6]                10           0.9          5.50e-01                 \n",
      "s(42)                             [0.6]                10           0.7          2.04e-01                 \n",
      "s(43)                             [0.6]                10           0.9          2.77e-01                 \n",
      "s(44)                             [0.6]                10           0.8          2.16e-01                 \n",
      "s(45)                             [0.6]                10           0.7          1.36e-05     ***         \n",
      "s(46)                             [0.6]                10           0.2          9.72e-01                 \n",
      "s(47)                             [0.6]                10           0.0          9.99e-01                 \n",
      "intercept                                              1            0.0          1.11e-16     ***         \n",
      "==========================================================================================================\n",
      "Significance codes:  0 '***' 0.001 '**' 0.01 '*' 0.05 '.' 0.1 ' ' 1\n",
      "\n",
      "WARNING: Fitting splines and a linear function to a feature introduces a model identifiability problem\n",
      "         which can cause p-values to appear significant when they are not.\n",
      "\n",
      "WARNING: p-values calculated in this manner behave correctly for un-penalized models or models with\n",
      "         known smoothing parameters, but when smoothing parameters have been estimated, the p-values\n",
      "         are typically lower than they should be, meaning that the tests reject the null too readily.\n",
      "None\n"
     ]
    },
    {
     "name": "stderr",
     "output_type": "stream",
     "text": [
      "/Users/mukeharmon/miniconda/lib/python3.6/site-packages/ipykernel_launcher.py:1: UserWarning: KNOWN BUG: p-values computed in this summary are likely much smaller than they should be. \n",
      " \n",
      "Please do not make inferences based on these values! \n",
      "\n",
      "Collaborate on a solution, and stay up to date at: \n",
      "github.com/dswah/pyGAM/issues/163 \n",
      "\n",
      "  \"\"\"Entry point for launching an IPython kernel.\n"
     ]
    }
   ],
   "source": [
    "print(gam.summary())"
   ]
  },
  {
   "cell_type": "markdown",
   "metadata": {},
   "source": [
    "Evaluating the performance of our model on the test set we find an $R^{2}$ score of:"
   ]
  },
  {
   "cell_type": "code",
   "execution_count": 63,
   "metadata": {},
   "outputs": [
    {
     "name": "stdout",
     "output_type": "stream",
     "text": [
      "Variance score: 0.7082241855425819\n"
     ]
    }
   ],
   "source": [
    "y_pred = gam.predict(X_test)\n",
    "\n",
    "# Explained variance score: \n",
    "print(\"Variance score: {}\".format(r2_score(y_test, y_pred)))"
   ]
  },
  {
   "cell_type": "markdown",
   "metadata": {},
   "source": [
    "The GAM model results in an improvement in the $R^2$ score!  We can see that using a more flexible model like a GAM using B-splines is better able to explain the variance in our data when compared to a linear regression model.\n",
    "\n",
    "We can explore the effect that the number of splines used in our model has on the performance by training the model on various numbers of splines and plotting the learning curves.  We write a function to train a model and returns 1 - $R^2$ on the training and test set respectively."
   ]
  },
  {
   "cell_type": "code",
   "execution_count": 64,
   "metadata": {},
   "outputs": [],
   "source": [
    "def train_gam_full(X_train, y_train, X_test, y_test, n_splines):\n",
    "    \"\"\"\n",
    "    Trains a linear GAM model and returns performance on training and test sets.\n",
    "    \n",
    "    :parameters:\n",
    "    -----------\n",
    "    X_train (DataFrame) : Training set of features\n",
    "    y_train (Series)    : Training set target values\n",
    "    X_test (DataFrame)  : Test set of features\n",
    "    y_test (Series)     : Test set target values\n",
    "    n_splines (int)     : The number of splines to use in the GAM\n",
    "    \n",
    "    :returns: \n",
    "    --------\n",
    "    The tupple of (1-R^2) for the training and test set respectively.\n",
    "    \n",
    "    \"\"\"\n",
    "    model   = LinearGAM(n_splines=n_splines).fit(X_train, y_train)\n",
    "    y_pred  = model.predict(X_train)\n",
    "    y_pred2 = model.predict(X_test)\n",
    "    \n",
    "    return 1-r2_score(y_train, y_pred), 1-r2_score(y_test, y_pred2)"
   ]
  },
  {
   "cell_type": "markdown",
   "metadata": {},
   "source": [
    "We now get the results for our model's learning curve using ideas from functional programing. \n",
    "\n",
    "We transform the above function into one that is only dependent on the number of splines using the <a href=\"https://docs.python.org/2/library/functools.html\">partial</a> tool to bind the values the training and test set.  This will allow us to return a function that returns 1 - $R^2$ on the training and test set and only depends on the number of splines."
   ]
  },
  {
   "cell_type": "code",
   "execution_count": 65,
   "metadata": {},
   "outputs": [],
   "source": [
    "from functools import partial\n",
    "train_gam = partial(train_gam_full, X_train, y_train, X_test, y_test)"
   ]
  },
  {
   "cell_type": "markdown",
   "metadata": {},
   "source": [
    "Now we can define the number of spines we want to train on and then use the <a href=\"http://book.pythontips.com/en/latest/map_filter.html\">map</a> function to get the performance metrics and plot the resulting learning curves:"
   ]
  },
  {
   "cell_type": "code",
   "execution_count": 66,
   "metadata": {},
   "outputs": [],
   "source": [
    "# defined the \n",
    "n_splines = range(5,21)\n",
    "\n",
    "# get the r2 values\n",
    "r2_train, r2_test = zip(*map(train_gam, n_splines))"
   ]
  },
  {
   "cell_type": "code",
   "execution_count": 67,
   "metadata": {},
   "outputs": [
    {
     "data": {
      "text/plain": [
       "<matplotlib.legend.Legend at 0x1a1ddb14a8>"
      ]
     },
     "execution_count": 67,
     "metadata": {},
     "output_type": "execute_result"
    },
    {
     "data": {
      "image/png": "[encoded data removed]",
      "text/plain": [
       "<Figure size 720x432 with 1 Axes>"
      ]
     },
     "metadata": {
      "needs_background": "light"
     },
     "output_type": "display_data"
    }
   ],
   "source": [
    "# plot the learning curves\n",
    "plt.figure(figsize=(10,6))\n",
    "plt.plot(n_splines, r2_train, label=\"Training R^2 Score\")\n",
    "plt.plot(n_splines, r2_test,  label=\"Testing R^2 Score\")\n",
    "plt.ylabel(\"R^2 Scores\",fontsize=13)\n",
    "plt.xlabel(\"Number Of Splines\",fontsize=13)\n",
    "plt.ylim([0.2,0.4])\n",
    "plt.title(\"Learning Curves For Reg. GAMs Using Diff. Num. Of Splines\", fontsize=15)\n",
    "plt.legend(fontsize=13)"
   ]
  },
  {
   "cell_type": "markdown",
   "metadata": {},
   "source": [
    "We can see that increasing the number of splines doesnt seem to improve the predictive performance of the model past 10 or 12 splines.  \n",
    "\n",
    "\n",
    "So in order to improve the predictive ability we'll need to turn to a different model.\n",
    "\n",
    "###  Gradient Boosted Regression Trees <a class=\"anchor\" id=\"model-three\"></a>\n",
    "\n",
    "Let's try another model to see if we cant improve our $R^2$ score for our model.  One model that performs quite well is the <a href=\"http://scikit-learn.org/stable/modules/generated/sklearn.ensemble.GradientBoostingRegressor.html\">Gradient Boosted Regression Tree</a>.  It is a nonlinear model based on decision trees and is one of the best performing machine learning models avaiable. We can use Scikit-learns gradient boosted regressor:"
   ]
  },
  {
   "cell_type": "code",
   "execution_count": 16,
   "metadata": {},
   "outputs": [],
   "source": [
    "from sklearn.ensemble import GradientBoostingRegressor\n",
    "from sklearn.model_selection import GridSearchCV\n",
    "\n",
    "GBR = GradientBoostingRegressor()"
   ]
  },
  {
   "cell_type": "markdown",
   "metadata": {},
   "source": [
    "Now let's run a grid search using cross-valiation to find the optimal parameter values for our model:"
   ]
  },
  {
   "cell_type": "code",
   "execution_count": 17,
   "metadata": {},
   "outputs": [
    {
     "data": {
      "text/plain": [
       "GridSearchCV(cv=5, error_score='raise-deprecating',\n",
       "       estimator=GradientBoostingRegressor(alpha=0.9, criterion='friedman_mse', init=None,\n",
       "             learning_rate=0.1, loss='ls', max_depth=3, max_features=None,\n",
       "             max_leaf_nodes=None, min_impurity_decrease=0.0,\n",
       "             min_impurity_split=None, min_samples_leaf=1,\n",
       "             min_sampl...=None, subsample=1.0, tol=0.0001,\n",
       "             validation_fraction=0.1, verbose=0, warm_start=False),\n",
       "       fit_params=None, iid='warn', n_jobs=-1,\n",
       "       param_grid={'n_estimators': [50, 100], 'max_depth': [3, 5, 7], 'loss': ['ls', 'lad']},\n",
       "       pre_dispatch='2*n_jobs', refit=True, return_train_score='warn',\n",
       "       scoring='r2', verbose=0)"
      ]
     },
     "execution_count": 17,
     "metadata": {},
     "output_type": "execute_result"
    }
   ],
   "source": [
    "# define the parameter values\n",
    "paramters = {\"n_estimators\":[50,100],# 125,150,200],\n",
    "             \"max_depth\"   :[3,5,7], \n",
    "             \"loss\"        :[\"ls\", \"lad\"],#, \"huber\", \"quantile\"]\n",
    "            }\n",
    "\n",
    "# defind the grid search and optimization metric\n",
    "grid = GridSearchCV(estimator=GBR,\n",
    "                    param_grid=paramters,\n",
    "                    scoring=\"r2\",\n",
    "                    cv=5,\n",
    "                    n_jobs=-1)\n",
    "\n",
    "# perform the grid search\n",
    "grid.fit(X_train, y_train)"
   ]
  },
  {
   "cell_type": "markdown",
   "metadata": {
    "collapsed": true
   },
   "source": [
    "Now that we have the best model from our grid search over the trainin set let see how it performs on the test set:"
   ]
  },
  {
   "cell_type": "code",
   "execution_count": 18,
   "metadata": {},
   "outputs": [
    {
     "name": "stdout",
     "output_type": "stream",
     "text": [
      "Variance score: 0.7778492717292838\n"
     ]
    }
   ],
   "source": [
    "y_pred = grid.predict(X_test)\n",
    "\n",
    "# Explained variance score: \n",
    "print(\"Variance score: {}\".format(r2_score(y_test, y_pred)))"
   ]
  },
  {
   "cell_type": "markdown",
   "metadata": {},
   "source": [
    "Again a definite improvement in the $R^2$ score!  While we have improved our prediction capabilities, one draw back to more complex models like Gradient Boosted Regressors is that they are less interperable.  Despite this draw back, Scikit-learn still allows to the find the relative importance of the features on the outcome of the model:"
   ]
  },
  {
   "cell_type": "code",
   "execution_count": 19,
   "metadata": {},
   "outputs": [],
   "source": [
    "import mlflow\n",
    "import mlflow.sklearn"
   ]
  },
  {
   "cell_type": "code",
   "execution_count": null,
   "metadata": {},
   "outputs": [],
   "source": []
  },
  {
   "cell_type": "code",
   "execution_count": 20,
   "metadata": {},
   "outputs": [
    {
     "name": "stdout",
     "output_type": "stream",
     "text": [
      "('NGI', 0.28306335291396933)\n",
      "('EI', 0.07276454147383107)\n",
      "('WI', 0.06815610343205734)\n",
      "('OPSFT', 0.03443697921229804)\n",
      "('Year_Built', 0.00977433651564942)\n",
      "('Energy_Star', 0.49933096209039823)\n",
      "('zip_10001.0', 7.366138738114959e-05)\n",
      "('zip_10002.0', 0.0012153327155546027)\n",
      "('zip_10003.0', 0.00039238188578971504)\n",
      "('zip_10004.0', 2.599725523026836e-05)\n",
      "('zip_10005.0', 5.069870770011958e-05)\n",
      "('zip_10006.0', 0.000627879501378974)\n",
      "('zip_10007.0', 0.00011492019805470444)\n",
      "('zip_10009.0', 0.00021745128599511964)\n",
      "('zip_10010.0', 0.0)\n",
      "('zip_10011.0', 0.0003406905085313891)\n",
      "('zip_10012.0', 5.574555109402042e-05)\n",
      "('zip_10013.0', 0.000231048152138146)\n",
      "('zip_10014.0', 0.0012009856421270164)\n",
      "('zip_10016.0', 0.0)\n",
      "('zip_10017.0', 0.0010026051410823523)\n",
      "('zip_10018.0', 0.0)\n",
      "('zip_10019.0', 0.004134542685411771)\n",
      "('zip_10021.0', 0.000326384306392943)\n",
      "('zip_10022.0', 0.003747722198558782)\n",
      "('zip_10023.0', 0.0005643016756056744)\n",
      "('zip_10024.0', 0.006264734380763231)\n",
      "('zip_10025.0', 0.0019262065986694404)\n",
      "('zip_10026.0', 0.000300262266414525)\n",
      "('zip_10027.0', 0.002459054632762084)\n",
      "('zip_10028.0', 0.0)\n",
      "('zip_10029.0', 0.00037877299491411196)\n",
      "('zip_10030.0', 0.0003028028319346904)\n",
      "('zip_10031.0', 0.00042906226576650214)\n",
      "('zip_10032.0', 0.0002671944580607372)\n",
      "('zip_10033.0', 0.0)\n",
      "('zip_10035.0', 0.000517226199847147)\n",
      "('zip_10036.0', 0.0019320815906687517)\n",
      "('zip_10037.0', 0.00016194074924460146)\n",
      "('zip_10038.0', 0.0002807882430247488)\n",
      "('zip_10039.0', 0.0006731599015114401)\n",
      "('zip_10044.0', 0.0)\n",
      "('zip_10065.0', 0.00047601330910809417)\n",
      "('zip_10069.0', 0.0008320215698967006)\n",
      "('zip_10075.0', 0.0)\n",
      "('zip_10128.0', 0.000950053571182916)\n",
      "('zip_10280.0', 0.0)\n",
      "('zip_10282.0', 0.0)\n"
     ]
    }
   ],
   "source": [
    "model = grid.best_estimator_\n",
    "for coef in zip(X_train.columns, model.feature_importances_):\n",
    "    print(coef)"
   ]
  },
  {
   "cell_type": "code",
   "execution_count": 44,
   "metadata": {},
   "outputs": [
    {
     "data": {
      "text/plain": [
       "['scoring',\n",
       " 'estimator',\n",
       " 'n_jobs',\n",
       " 'fit_params',\n",
       " 'iid',\n",
       " 'refit',\n",
       " 'cv',\n",
       " 'verbose',\n",
       " 'pre_dispatch',\n",
       " 'error_score',\n",
       " 'return_train_score',\n",
       " 'param_grid',\n",
       " 'multimetric_',\n",
       " 'best_index_',\n",
       " 'best_params_',\n",
       " 'best_score_',\n",
       " 'best_estimator_',\n",
       " 'refit_time_',\n",
       " 'scorer_',\n",
       " 'cv_results_',\n",
       " 'n_splits_',\n",
       " '__module__',\n",
       " '__doc__',\n",
       " '__init__',\n",
       " '_run_search',\n",
       " '__abstractmethods__',\n",
       " '_abc_registry',\n",
       " '_abc_cache',\n",
       " '_abc_negative_cache',\n",
       " '_abc_negative_cache_version',\n",
       " '_estimator_type',\n",
       " 'score',\n",
       " '_check_is_fitted',\n",
       " 'predict',\n",
       " 'predict_proba',\n",
       " 'predict_log_proba',\n",
       " 'decision_function',\n",
       " 'transform',\n",
       " 'inverse_transform',\n",
       " 'classes_',\n",
       " 'fit',\n",
       " '_format_results',\n",
       " '_get_param_names',\n",
       " 'get_params',\n",
       " 'set_params',\n",
       " '__repr__',\n",
       " '__getstate__',\n",
       " '__setstate__',\n",
       " '__dict__',\n",
       " '__weakref__',\n",
       " '__hash__',\n",
       " '__str__',\n",
       " '__getattribute__',\n",
       " '__setattr__',\n",
       " '__delattr__',\n",
       " '__lt__',\n",
       " '__le__',\n",
       " '__eq__',\n",
       " '__ne__',\n",
       " '__gt__',\n",
       " '__ge__',\n",
       " '__new__',\n",
       " '__reduce_ex__',\n",
       " '__reduce__',\n",
       " '__subclasshook__',\n",
       " '__init_subclass__',\n",
       " '__format__',\n",
       " '__sizeof__',\n",
       " '__dir__',\n",
       " '__class__']"
      ]
     },
     "execution_count": 44,
     "metadata": {},
     "output_type": "execute_result"
    }
   ],
   "source": [
    "grid.__dir__()"
   ]
  },
  {
   "cell_type": "code",
   "execution_count": 41,
   "metadata": {},
   "outputs": [
    {
     "data": {
      "text/plain": [
       "[{'loss': 'ls', 'max_depth': 3, 'n_estimators': 50},\n",
       " {'loss': 'ls', 'max_depth': 3, 'n_estimators': 100},\n",
       " {'loss': 'ls', 'max_depth': 5, 'n_estimators': 50},\n",
       " {'loss': 'ls', 'max_depth': 5, 'n_estimators': 100},\n",
       " {'loss': 'ls', 'max_depth': 7, 'n_estimators': 50},\n",
       " {'loss': 'ls', 'max_depth': 7, 'n_estimators': 100},\n",
       " {'loss': 'lad', 'max_depth': 3, 'n_estimators': 50},\n",
       " {'loss': 'lad', 'max_depth': 3, 'n_estimators': 100},\n",
       " {'loss': 'lad', 'max_depth': 5, 'n_estimators': 50},\n",
       " {'loss': 'lad', 'max_depth': 5, 'n_estimators': 100},\n",
       " {'loss': 'lad', 'max_depth': 7, 'n_estimators': 50},\n",
       " {'loss': 'lad', 'max_depth': 7, 'n_estimators': 100}]"
      ]
     },
     "execution_count": 41,
     "metadata": {},
     "output_type": "execute_result"
    }
   ],
   "source": []
  },
  {
   "cell_type": "code",
   "execution_count": 35,
   "metadata": {},
   "outputs": [],
   "source": [
    "\n",
    "\n",
    "tups = [{k,v} for v in grid.cv_results_['mean_train_score']]"
   ]
  },
  {
   "cell_type": "code",
   "execution_count": null,
   "metadata": {},
   "outputs": [],
   "source": []
  },
  {
   "cell_type": "code",
   "execution_count": 60,
   "metadata": {},
   "outputs": [],
   "source": [
    "with mlflow.start_run():\n",
    "    for params, metric in zip(grid.cv_results_['params'],grid.cv_results_['mean_train_score']):\n",
    "        mlflow.log_params(params)\n",
    "        mlflow.log_param(\"scoring\",grid.scoring)\n",
    "        mlflow.log_param(\"r2_score\",metric)\n",
    "\n",
    "    mlflow.sklearn.log_model(model,\"model\")\n"
   ]
  },
  {
   "cell_type": "code",
   "execution_count": 81,
   "metadata": {},
   "outputs": [],
   "source": []
  },
  {
   "cell_type": "code",
   "execution_count": 21,
   "metadata": {},
   "outputs": [],
   "source": [
    "with mlflow.start_run():\n",
    "    mlflow.log_param(\"alpha\", model.alpha)\n",
    "    mlflow.log_param(\"learning_rate\", model.learning_rate)\n",
    "    mlflow.log_param(\"n_estimators\", model.n_estimators)\n",
    "    mlflow.log_param(\"min_samples_leaf\", model.min_samples_leaf)\n",
    "    mlflow.log_param(\"criterion\", model.criterion)\n",
    "    mlflow.log_param(\"min_samples_leaf\", model.min_samples_leaf)\n",
    "    mlflow.log_metric(\"r2_score\",r2_score(y_test, y_pred))\n",
    "    mlflow.sklearn.log_model(model, \n",
    "                             conda_env=\"environment.yml\",\n",
    "                             \"model\")"
   ]
  },
  {
   "cell_type": "code",
   "execution_count": 84,
   "metadata": {},
   "outputs": [],
   "source": []
  },
  {
   "cell_type": "markdown",
   "metadata": {},
   "source": [
    "The most important features for predicting green house gas emissions are the energy star score followed by tnatural gas intensity and the electicity intensity.  The zipcode and the year built have the least importance, which from our analysis above makes sense.\n",
    "\n",
    "That's enough modeling for now! Overall we were able to come with a model that explains over 75% of the variance in the test set data.  Not bad!"
   ]
  },
  {
   "cell_type": "markdown",
   "metadata": {},
   "source": [
    "--------------\n",
    "## Conclusion And Recommendations <a class=\"anchor\" id=\"fifth-bullet\"></a>\n",
    "--------------\n",
    "\n",
    "In this blog post we analyzed the energy usage of multifamily buildings and developed a predictive model for these buildings green house gas emissions.  From the final heat map of the correlation matrix we can see that the Energy Star score is negatively correlated with enery usage intensity.  This makes sense as the energy star score is a measure of energy efficiceny of the building.  The energy usage intensity has a strong positive correlation to the natural gas usage intensity.  We can see that natural gas usage intensity and electricity usage intensity are uncorrlated.  This implies we could replace one with the other.  Therefore reducing natural gas consumption or replacing it with electricity could be the best answer to reducing energy usage intensity and green house gas emissions.  It should also be noted that year the residence was built did not have any correlation with energy usage intensity. This is probably due to the fact that the majority of residential buildings in New York City were built in a similar time period and before energy efficiency was a priority.\n",
    "\n",
    "\n",
    "Since natural gas usage intensity is most highly correlated with energy usage intensity reducing it could improve building energy efficiency and reduce green house gas emissions (so long as the buildings' electricity comes from a clean energy source or atleast one with less emissions than natural gas). Some ways to reduce natural gas consumption include:\n",
    "\n",
    "- Investing in more efficient heating and cooling services or slightly reducing the usage of either heating or cooling during the day when most people are not home. This is especially important in large buildings as HVAC systems have a larger volume of air to heat/cool.\n",
    "\n",
    "\n",
    "- Another option is to reuse waste heat, such as reusing the vented air from electric clothes dryers, however, filtering and the air will be necessary and could alter the cost effectiveness of this approach.\n",
    "\n",
    "\n",
    "- Replacing gas powered appliances such as stoves with more efficient electric ones is another option.  However, the source of electric power should also be considered to weigh the overall energy efficiency and enviromental impact.\n",
    "\n",
    "\n",
    "- Another option is to replace gas powered water heaters by solar powered water heaters. While solar powered water heaters are not as cost effective in moderate climates, the presence of numerous roof top water tanks on New York City buildings may help make this option more financially competitive.  At the very least, it suggests that having roof top water tanks for solar powered water heaters is structurally possible, where as with individual houses this may not be the feasible.\n",
    "\n",
    "\n",
    "- In addition, buying energy efficient refrigerators and dryers is also important as these are two of the largest energy consumers in ones home.\n",
    "\n",
    "\n",
    "In addition, we investigated creating a predictive model of green house gas emissions for multi-family buildings in New York City.  The highest performing model was a gradient boosted tree model that had $R^2$ value of 0.76.  The most important features for predicting green house gas emissions in this model are the natural gas intensity followed by the energy start scored and the electicity intensity. The zipcode and the year built have the least importance, which from our analysis above makes sense."
   ]
  }
 ],
 "metadata": {
  "anaconda-cloud": {},
  "kernelspec": {
   "display_name": "Python 3",
   "language": "python",
   "name": "python3"
  },
  "language_info": {
   "codemirror_mode": {
    "name": "ipython",
    "version": 3
   },
   "file_extension": ".py",
   "mimetype": "text/x-python",
   "name": "python",
   "nbconvert_exporter": "python",
   "pygments_lexer": "ipython3",
   "version": "3.6.7"
  }
 },
 "nbformat": 4,
 "nbformat_minor": 2
}
